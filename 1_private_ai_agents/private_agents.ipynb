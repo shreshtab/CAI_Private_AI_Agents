{
 "cells": [
  {
   "cell_type": "markdown",
   "id": "de26e26d-d68a-49a4-9632-d4347ebdbaf1",
   "metadata": {},
   "source": [
    "# Getting Started with Private AI Agents with Cloudera AI\n",
    "It's 2025 and AI agents are the hot commodities in the AI market. Giving large language models (LLMs) the ability to use tools to complete actions opens up a huge range of use cases. At the same time, it's important to ensure that the AI agents we build are secure. \n",
    "\n",
    "In this notebook you will get familiar the CrewAI library and how we can build fully private AI agents with CrewAI and Cloudera's AI Inference Service. Powered by Nvidia NeMo Inference Microservices (NIM), Cloudera's AI Inference Service gives you the ability to deploy private LLMs within your infrastructure. This notebook is designed to walk you through the setup and application of these tools in an agentic worfklow context to create a robust and intelligence system. \n",
    "\n",
    "- **Configure the AI Inference Service & CrewAI:** Large Language Models (LLMs) deployed via Cloudera's AI Inference Service have endpoints that are compatible with the OpenAI spec, and can work with a range of popular libraries that are built to work with OpenAI endpoints. In the example below, we deployed the LLama 3.1 8B Instruct LLM, which will serve as the backbone of our AI agents, providing the computational power and linguistic understanding necessary for processing complex queries.\n",
    "- **Set up CrewAI Agents and Tasks:** We will leverage the CrewAI library to set up our AI agents with clear roles, backstories and goals. We will also configure tasks for each agent to complete and identify tools that they can leverage to complete their tasks.\n",
    "- **Create Sequential Agentic Workflow:** Next, we will orchestrate these agents and tasks into a crew and workflow for them to complete.\n",
    "- **Running a Practical Example:** We will then run our example workflow by providing inputs for the agentic workflow to consider and then complete the tasks they are configured to do."
   ]
  },
  {
   "cell_type": "markdown",
   "id": "d2916395-b698-44e7-8caa-e3e4c99f3e6b",
   "metadata": {},
   "source": [
    "## 1 Configuring the AI Inference Service & CrewAI\n",
    "\n",
    "First, let's configure the LLama 3.1 8B Instruct model with CrewAI to use for our agents."
   ]
  },
  {
   "cell_type": "code",
   "execution_count": 5,
   "id": "3b137ab1-f4f7-4226-b05f-60d99d6f9d74",
   "metadata": {},
   "outputs": [
    {
     "ename": "ModuleNotFoundError",
     "evalue": "No module named 'pysqlite3'",
     "output_type": "error",
     "traceback": [
      "\u001b[0;31m---------------------------------------------------------------------------\u001b[0m",
      "\u001b[0;31mModuleNotFoundError\u001b[0m                       Traceback (most recent call last)",
      "Cell \u001b[0;32mIn[5], line 2\u001b[0m\n\u001b[1;32m      1\u001b[0m \u001b[38;5;66;03m# Import our key libraries and methods\u001b[39;00m\n\u001b[0;32m----> 2\u001b[0m \u001b[38;5;28;01mimport\u001b[39;00m \u001b[38;5;21;01mpysqlite3\u001b[39;00m\n\u001b[1;32m      3\u001b[0m \u001b[38;5;28;01mfrom\u001b[39;00m \u001b[38;5;21;01mcrewai\u001b[39;00m \u001b[38;5;28;01mimport\u001b[39;00m Agent, Task, Crew, Process, LLM\n\u001b[1;32m      4\u001b[0m \u001b[38;5;28;01mimport\u001b[39;00m \u001b[38;5;21;01mos\u001b[39;00m\n",
      "\u001b[0;31mModuleNotFoundError\u001b[0m: No module named 'pysqlite3'"
     ]
    }
   ],
   "source": [
    "# Import our key libraries and methods\n",
    "from crewai import Agent, Task, Crew, Process, LLM\n",
    "import os\n",
    "import litellm\n",
    "import json"
   ]
  },
  {
   "cell_type": "code",
   "execution_count": 3,
   "id": "c16005d5-d628-4d86-a580-7fae649bd871",
   "metadata": {},
   "outputs": [
    {
     "name": "stdout",
     "output_type": "stream",
     "text": [
      "3.31.1\n"
     ]
    }
   ],
   "source": [
    "import sqlite3\n",
    "print(sqlite3.sqlite_version)"
   ]
  },
  {
   "cell_type": "code",
   "execution_count": null,
   "id": "ead72c10-de8b-4326-b47a-c4f5a4c92412",
   "metadata": {},
   "outputs": [],
   "source": []
  }
 ],
 "metadata": {
  "kernelspec": {
   "display_name": "Python 3 (ipykernel)",
   "language": "python",
   "name": "python3"
  },
  "language_info": {
   "codemirror_mode": {
    "name": "ipython",
    "version": 3
   },
   "file_extension": ".py",
   "mimetype": "text/x-python",
   "name": "python",
   "nbconvert_exporter": "python",
   "pygments_lexer": "ipython3",
   "version": "3.10.14"
  }
 },
 "nbformat": 4,
 "nbformat_minor": 5
}
