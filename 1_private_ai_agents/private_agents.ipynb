{
 "cells": [
  {
   "cell_type": "markdown",
   "id": "de26e26d-d68a-49a4-9632-d4347ebdbaf1",
   "metadata": {},
   "source": [
    "# Getting Started with Private AI Agents with Cloudera AI\n",
    "It's 2025 and AI agents are the hot commodities in the AI market. Giving large language models (LLMs) the ability to use tools to complete actions opens up a huge range of use cases. At the same time, it's important to ensure that the AI agents we build are secure. \n",
    "\n",
    "In this notebook you will get familiar the CrewAI library and how we can build fully private AI agents with CrewAI and Cloudera's AI Inference Service. Powered by Nvidia NeMo Inference Microservices (NIM), Cloudera's AI Inference Service gives you the ability to deploy private LLMs within your infrastructure. This notebook is designed to walk you through the setup and application of these tools in an agentic worfklow context to create a robust and intelligence system. \n",
    "\n",
    "- **Configure the AI Inference Service & CrewAI:** Large Language Models (LLMs) deployed via Cloudera's AI Inference Service have endpoints that are compatible with the OpenAI spec, and can work with a range of popular libraries that are built to work with OpenAI endpoints. In the example below, we deployed the LLama 3.1 8B Instruct LLM, which will serve as the backbone of our AI agents, providing the computational power and linguistic understanding necessary for processing complex queries.\n",
    "- **Set up CrewAI Agents and Tasks:** We will leverage the CrewAI library to set up our AI agents with clear roles, backstories and goals. We will also configure tasks for each agent to complete and identify tools that they can leverage to complete their tasks.\n",
    "- **Create Sequential Agentic Workflow:** Next, we will orchestrate these agents and tasks into a crew and workflow for them to complete.\n",
    "- **Running a Practical Example:** We will then run our example workflow by providing inputs for the agentic workflow to consider and then complete the tasks they are configured to do."
   ]
  },
  {
   "cell_type": "markdown",
   "id": "d2916395-b698-44e7-8caa-e3e4c99f3e6b",
   "metadata": {},
   "source": [
    "## 1 - Configuring the AI Inference Service & CrewAI\n",
    "\n",
    "First, let's setup CrewAI with the LLM hosted by the AI Inference Service."
   ]
  },
  {
   "cell_type": "code",
   "execution_count": 10,
   "id": "3b137ab1-f4f7-4226-b05f-60d99d6f9d74",
   "metadata": {},
   "outputs": [],
   "source": [
    "# Import our key libraries and methods\n",
    "from crewai import Agent, Task, Crew, Process, LLM\n",
    "import os\n",
    "import litellm\n",
    "import json\n",
    "import warnings\n",
    "warnings.filterwarnings('ignore')"
   ]
  },
  {
   "cell_type": "markdown",
   "id": "7cc4efec-879a-4076-9edb-2aab9b7697b1",
   "metadata": {},
   "source": [
    "Below, we obtain the Access Token that we need to use the AI Inference Service endpoint"
   ]
  },
  {
   "cell_type": "code",
   "execution_count": 11,
   "id": "ead72c10-de8b-4326-b47a-c4f5a4c92412",
   "metadata": {},
   "outputs": [],
   "source": [
    "CAII_API_KEY=json.load(open(\"/tmp/jwt\"))[\"access_token\"]"
   ]
  },
  {
   "cell_type": "markdown",
   "id": "159d2813-0de5-4f32-a11a-7147c346dab8",
   "metadata": {},
   "source": [
    "Next, we set the model endpoint variables.\n",
    "\n",
    "Note: For the **\"CAII_API_BASE_URL\"** environment variable, it must not include the **\"/chat/completions\"** suffix.\n",
    "\n",
    "For the model name, it is important to add the **\"openai/\"** prefix, since CrewAI leverages LiteLLM to be able to support various LLMs, and the **\"openai/\"** prefix tells LiteLLM that we are working with an OpenAI-compatible endpoint."
   ]
  },
  {
   "cell_type": "code",
   "execution_count": 12,
   "id": "b2de2da7-71fc-4b94-8fd5-fdb6aafec976",
   "metadata": {},
   "outputs": [],
   "source": [
    "litellm.set_verbose=False\n",
    "\n",
    "llm = LLM(\n",
    "    model=\"openai/\" + os.getenv(\"CAII_MODEL_NAME\"),\n",
    "    api_key=CAII_API_KEY,\n",
    "    base_url=os.getenv(\"CAII_API_BASE_URL\")\n",
    ")"
   ]
  },
  {
   "cell_type": "markdown",
   "id": "c3df6afe-35ac-49cb-9899-89ac628c61e5",
   "metadata": {},
   "source": [
    "## 2 - Set Up CrewAI Agents and Tasks\n",
    "\n",
    "Next, let's set up the relevant Agents and Tasks using the CrewAI library. We will define 2 agents - One Researcher and One Reporting Analyst, and they will be tasked to research the topic assigned to them. For the purpose of this exercise, we will rely on the LLM's trained knowledge and will not access the internet."
   ]
  },
  {
   "cell_type": "code",
   "execution_count": 13,
   "id": "f3131dd0-448b-4c7e-ae5e-41087ca22378",
   "metadata": {},
   "outputs": [],
   "source": [
    "from textwrap import dedent\n",
    "\n",
    "# First we define the Researcher Agent\n",
    "researcher_agent = Agent(\n",
    "    role=dedent((\n",
    "        \"\"\"\n",
    "        {topic} Senior Data Researcher\n",
    "        \"\"\")), # Think of this as the job title\n",
    "    backstory=dedent((\n",
    "        \"\"\"\n",
    "        You are a seasoned researcher with a knack for uncovering the latest developments in {topic}.\n",
    "\n",
    "        You are known for your ability to find the most relevant information and present it in a clear and concise manner.\n",
    "        \"\"\")), # This is the backstory of the agent, this helps the agent to understand the context of the task\n",
    "    goal=dedent((\n",
    "        \"\"\"\n",
    "        Uncover cutting-edge developments in {topic}. Try to keep final answers in markdown format.\n",
    "        \"\"\")), # This is the goal that the agent is trying to achieve\n",
    "    allow_delegation=False,\n",
    "    max_iter=2,\n",
    "    max_retry_limit=3,\n",
    "    max_retries=3,\n",
    "    llm=llm,\n",
    "    verbose=True\n",
    ")\n",
    "\n",
    "# Next, we define the Reporting Analyst\n",
    "reporting_analyst = Agent(\n",
    "    role=dedent((\n",
    "        \"\"\"\n",
    "        {topic} Reporting Analyst\n",
    "        \"\"\")),\n",
    "    backstory=dedent((\n",
    "        \"\"\"\n",
    "        You are a meticulous analyst with a keen eye for detail. You are known for your ability to turn complex data into clear and concise reports,\n",
    "        making it easy for others to understand and act on the information you provide.\n",
    "        \"\"\")),\n",
    "    goal=dedent((\n",
    "        \"\"\"\n",
    "        Create detailed reports based on {topic} data analysis and research findings.\n",
    "        \"\"\")), # This is the goal that the agent is trying to achieve\n",
    "    allow_delegation=False,\n",
    "    max_iter=2,\n",
    "    max_retry_limit=3,\n",
    "    max_retries=3,\n",
    "    llm=llm,\n",
    "    verbose=True\n",
    ")"
   ]
  },
  {
   "cell_type": "markdown",
   "id": "6359ab0e-cfbd-4a25-9c03-92a12982a081",
   "metadata": {},
   "source": [
    "Next, let's define the tasks for our agents to complete."
   ]
  },
  {
   "cell_type": "code",
   "execution_count": 14,
   "id": "00d5f23a-1391-44bf-89a6-686a5fea828b",
   "metadata": {},
   "outputs": [],
   "source": [
    "# First, let's create a task for the researcher agent. Note below that we define which agent completes which task.\n",
    "research_task = Task(\n",
    "    description=dedent((\n",
    "        \"\"\"\n",
    "        Conduct thorough research about {topic}\n",
    "\n",
    "        Make sure you find any interesting and relevant information given the current year is 2024.\n",
    "        \"\"\")),\n",
    "    expected_output=dedent((\n",
    "        \"\"\"\n",
    "        A list with 2 to 4 bullet points of the most relevant information about {topic}\n",
    "        \"\"\")),\n",
    "    agent=researcher_agent\n",
    ")\n",
    "\n",
    "reporting_task = Task(\n",
    "    description=dedent((\n",
    "        \"\"\"\n",
    "        Review the context you got and expand each topic into a full section for a report.\n",
    "        Make sure the report is detailed and contains any and all relevant information.\n",
    "        \"\"\")),\n",
    "    expected_output=dedent((\n",
    "        \"\"\"\n",
    "        A fully fledge reports with the mains topics, each with a full section of information.\n",
    "        Formatted as markdown without '```'\n",
    "        \"\"\")),\n",
    "    agent=reporting_analyst,\n",
    "    output_file='report.md',\n",
    "    context=[research_task]\n",
    ")"
   ]
  },
  {
   "cell_type": "markdown",
   "id": "9464aa4b-f3c6-41c6-8fdb-749f633f5003",
   "metadata": {},
   "source": [
    "## 3 - Create Sequential Agentic AI Workflow\n",
    "\n",
    "Now, let's put all of this together by placing the discrete agents and tasks into a crew."
   ]
  },
  {
   "cell_type": "code",
   "execution_count": 15,
   "id": "abceef5b-d9f8-409a-b41a-501cbd33cdd7",
   "metadata": {},
   "outputs": [
    {
     "name": "stderr",
     "output_type": "stream",
     "text": [
      "2025-01-21 03:37:46,502 - 139834617546560 - __init__.py-__init__:537 - WARNING: Overriding of current TracerProvider is not allowed\n"
     ]
    }
   ],
   "source": [
    "crew = Crew(\n",
    "        agents=[researcher_agent, reporting_analyst],\n",
    "        tasks=[research_task, reporting_task],\n",
    "        verbose=True,  # You can set it to True or False\n",
    "        # ↑ indicates the verbosity level for logging during execution.\n",
    "        process=Process.sequential\n",
    "    )"
   ]
  },
  {
   "cell_type": "markdown",
   "id": "54d45379-e0de-4413-8798-2e33d0f3aaf7",
   "metadata": {},
   "source": [
    "## 4 - Running a Practical Example\n",
    "\n",
    "Now, let's put all of this together by placing the discrete agents and tasks into a crew. First, we define an input topic. Feel free to change the topic to something else."
   ]
  },
  {
   "cell_type": "code",
   "execution_count": 16,
   "id": "6ce5c5bd-0758-45ea-a9e1-a8f5ef25dd73",
   "metadata": {},
   "outputs": [],
   "source": [
    "# Notice here that the object we pass maps to the {topic} field we added to the agents and tasks.\n",
    "inputs = {\n",
    "        \"topic\": \"Best Cities in the US\",\n",
    "}"
   ]
  },
  {
   "cell_type": "markdown",
   "id": "5d1ea4a1-5e9a-49f1-861b-5b9a2b5e5325",
   "metadata": {},
   "source": [
    "Next, we create a function to run the crew with the given input. We have enabled verbose logging to help you see the agents execute each task."
   ]
  },
  {
   "cell_type": "code",
   "execution_count": 17,
   "id": "456faf44-a57d-4934-9cf7-c1e4b31f7af6",
   "metadata": {},
   "outputs": [
    {
     "name": "stdout",
     "output_type": "stream",
     "text": [
      "\u001b[1m\u001b[95m# Agent:\u001b[00m \u001b[1m\u001b[92m\u001b[00m\n",
      "\u001b[95m## Task:\u001b[00m \u001b[92m\n",
      "Conduct thorough research about Best Cities in the US\n",
      "\n",
      "Make sure you find any interesting and relevant information given the current year is 2024.\n",
      "\u001b[00m\n",
      "\n",
      "\n",
      "\u001b[1m\u001b[95m# Agent:\u001b[00m \u001b[1m\u001b[92m\u001b[00m\n",
      "\u001b[95m## Final Answer:\u001b[00m \u001b[92m\n",
      "* As of 2024, the Best Cities in the US are determined by factors such as quality of life, affordability, job market, education, healthcare, and diversity, among others.\n",
      "* According to a report by U.S. News & World Report, the top 5 Best Cities in the US in 2024 are:\n",
      "\t+ Denver, CO: ranked #1 for its strong economy, high quality of life, and easy access to outdoor recreation.\n",
      "\t+ Austin, TX: ranked #2 for its vibrant music scene, diverse economy, and a highly educated population.\n",
      "\t+ Raleigh-Durham, NC: ranked #3 for its research triangle park, affordable housing, and a strong job market.\n",
      "\t+ Portland, OR: ranked #4 for its eco-friendly lifestyle, cultural attractions, and a thriving food scene.\n",
      "\t+ Seattle, WA: ranked #5 for its tech industry, outdoor activities, and a diverse population.\n",
      "* Additionally, other notable cities in the US include Tampa, FL, Nashville, TN, and Minneapolis-St. Paul, MN, which are recognized for their economic growth, cultural attractions, and high quality of life.\u001b[00m\n",
      "\n",
      "\n",
      "\u001b[1m\u001b[95m# Agent:\u001b[00m \u001b[1m\u001b[92m\u001b[00m\n",
      "\u001b[95m## Task:\u001b[00m \u001b[92m\n",
      "Review the context you got and expand each topic into a full section for a report.\n",
      "Make sure the report is detailed and contains any and all relevant information.\n",
      "\u001b[00m\n",
      "\n",
      "\n",
      "\u001b[1m\u001b[95m# Agent:\u001b[00m \u001b[1m\u001b[92m\u001b[00m\n",
      "\u001b[95m## Final Answer:\u001b[00m \u001b[92m\n",
      "# Best Cities in the US Reporting Analyst: 2024 Edition\n",
      "\n",
      "## Executive Summary\n",
      "\n",
      "As of 2024, the Best Cities in the US are ranked based on various factors such as quality of life, affordability, job market, education, healthcare, and diversity. This report provides an in-depth analysis of the top 5 Best Cities in the US, as well as other notable cities that are recognized for their economic growth, cultural attractions, and high quality of life.\n",
      "\n",
      "## Methodology\n",
      "\n",
      "The ranking of the Best Cities in the US is based on a comprehensive analysis of various data points, including:\n",
      "\n",
      "* Quality of life: factors such as access to healthcare, education, and recreational activities\n",
      "* Affordability: costs of living, housing, and transportation\n",
      "* Job market: employment rates, industry growth, and average salary\n",
      "* Education: quality of schools, availability of educational resources\n",
      "* Healthcare: accessibility, quality, and affordability of healthcare services\n",
      "* Diversity: cultural, racial, and ethnic diversity\n",
      "\n",
      "## Top 5 Best Cities in the US\n",
      "\n",
      "### 1. Denver, CO\n",
      "\n",
      "* Ranked #1 in 2024 for its strong economy, high quality of life, and easy access to outdoor recreation.\n",
      "* Economic growth: 3.5% annual growth rate\n",
      "* Unemployment rate: 2.5%\n",
      "* Average salary: $74,000\n",
      "* Education: high-performing schools, University of Denver\n",
      "* Healthcare: access to quality healthcare services, including the University of Colorado Hospital\n",
      "\n",
      "### 2. Austin, TX\n",
      "\n",
      "* Ranked #2 in 2024 for its vibrant music scene, diverse economy, and highly educated population.\n",
      "* Economic growth: 4.2% annual growth rate\n",
      "* Unemployment rate: 2.2%\n",
      "* Average salary: $71,000\n",
      "* Education: highly ranked schools, University of Texas at Austin\n",
      "* Healthcare: access to quality healthcare services, including Seton Medical Center\n",
      "\n",
      "### 3. Raleigh-Durham, NC\n",
      "\n",
      "* Ranked #3 in 2024 for its research triangle park, affordable housing, and strong job market.\n",
      "* Economic growth: 4.5% annual growth rate\n",
      "* Unemployment rate: 2.1%\n",
      "* Average salary: $73,000\n",
      "* Education: highly ranked schools, University of North Carolina at Chapel Hill\n",
      "* Healthcare: access to quality healthcare services, including Duke University Medical Center\n",
      "\n",
      "### 4. Portland, OR\n",
      "\n",
      "* Ranked #4 in 2024 for its eco-friendly lifestyle, cultural attractions, and thriving food scene.\n",
      "* Economic growth: 3.8% annual growth rate\n",
      "* Unemployment rate: 2.6%\n",
      "* Average salary: $69,000\n",
      "* Education: highly ranked schools, Portland State University\n",
      "* Healthcare: access to quality healthcare services, including Oregon Health & Science University\n",
      "\n",
      "### 5. Seattle, WA\n",
      "\n",
      "* Ranked #5 in 2024 for its tech industry, outdoor activities, and diverse population.\n",
      "* Economic growth: 4.1% annual growth rate\n",
      "* Unemployment rate: 2.4%\n",
      "* Average salary: $80,000\n",
      "* Education: highly ranked schools, University of Washington\n",
      "* Healthcare: access to quality healthcare services, including Swedish Medical Center\n",
      "\n",
      "## Notable Cities\n",
      "\n",
      "* Tampa, FL: recognized for its economic growth, cultural attractions, and high quality of life.\n",
      "* Nashville, TN: recognized for its music industry, thriving food scene, and affordable housing.\n",
      "* Minneapolis-St. Paul, MN: recognized for its economic growth, cultural attractions, and access to outdoor recreational activities.\n",
      "\n",
      "## Conclusion\n",
      "\n",
      "The Best Cities in the US for 2024 have been ranked based on a comprehensive analysis of various data points. These cities offer a high quality of life, strong economies, and access to quality education and healthcare services. Whether you're looking to relocate or simply want to explore new cities, this report provides a valuable resource for understanding the best places to live and work in the US.\u001b[00m\n",
      "\n",
      "\n"
     ]
    }
   ],
   "source": [
    "def run_crew():\n",
    "    result = crew.kickoff(inputs=inputs)\n",
    "run_crew()"
   ]
  },
  {
   "cell_type": "markdown",
   "id": "31d97838-93ce-455e-8538-d752e4fe5bc6",
   "metadata": {},
   "source": [
    "As you can see from the results above, the AI Agents work together to create a report on the Top 5 cities in the US, all backed by a private large language model hosted with Cloudera's AI Inference Service. The agents used their trained knowledge to complete the task, but they can be configured with RAG tools to retrieve the latest information from the internet or other sources."
   ]
  }
 ],
 "metadata": {
  "kernelspec": {
   "display_name": "Python 3 (ipykernel)",
   "language": "python",
   "name": "python3"
  },
  "language_info": {
   "codemirror_mode": {
    "name": "ipython",
    "version": 3
   },
   "file_extension": ".py",
   "mimetype": "text/x-python",
   "name": "python",
   "nbconvert_exporter": "python",
   "pygments_lexer": "ipython3",
   "version": "3.10.14"
  }
 },
 "nbformat": 4,
 "nbformat_minor": 5
}
